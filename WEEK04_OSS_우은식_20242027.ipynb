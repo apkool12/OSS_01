{
  "nbformat": 4,
  "nbformat_minor": 0,
  "metadata": {
    "colab": {
      "provenance": []
    },
    "kernelspec": {
      "name": "python3",
      "display_name": "Python 3"
    },
    "language_info": {
      "name": "python"
    }
  },
  "cells": [
    {
      "cell_type": "code",
      "execution_count": 25,
      "metadata": {
        "id": "_EqQevyh7cy-",
        "colab": {
          "base_uri": "https://localhost:8080/"
        },
        "outputId": "bedd634d-3e4b-47ae-ce14-46f0b90af4c4"
      },
      "outputs": [
        {
          "output_type": "stream",
          "name": "stdout",
          "text": [
            "우은식\n",
            "20242027\n"
          ]
        }
      ],
      "source": [
        "# 본인의 이름, 학번을 작성하여 실행하세요.\n",
        "print(\"우은식\")\n",
        "print(\"20242027\")"
      ]
    },
    {
      "cell_type": "markdown",
      "source": [
        "## 이후 강의 PDF 예제 내용을 작성하여 실행하세요."
      ],
      "metadata": {
        "id": "bxjbNHQ2H07c"
      }
    },
    {
      "cell_type": "code",
      "source": [
        "symbols = \"$*&!@\"\n",
        "codes = []\n",
        "\n",
        "for symbol in symbols:\n",
        "  codes.append(ord(symbol))\n",
        "\n",
        "print(codes)"
      ],
      "metadata": {
        "colab": {
          "base_uri": "https://localhost:8080/"
        },
        "id": "2sit7GQcH4hP",
        "outputId": "e85b99c9-ee59-4692-badb-282a9addaa8f"
      },
      "execution_count": 26,
      "outputs": [
        {
          "output_type": "stream",
          "name": "stdout",
          "text": [
            "[36, 42, 38, 33, 64]\n"
          ]
        }
      ]
    },
    {
      "cell_type": "code",
      "source": [
        "symbols = \"$*&!@\"\n",
        "codes = [ord(symbol) for symbol in symbols]\n",
        "\n",
        "print(codes)"
      ],
      "metadata": {
        "colab": {
          "base_uri": "https://localhost:8080/"
        },
        "id": "fXrSRbc7IJaZ",
        "outputId": "27be3460-ddf8-4b4e-f817-56edc44e0dcc"
      },
      "execution_count": 27,
      "outputs": [
        {
          "output_type": "stream",
          "name": "stdout",
          "text": [
            "[36, 42, 38, 33, 64]\n"
          ]
        }
      ]
    },
    {
      "cell_type": "code",
      "source": [
        "x = '\"!~$$*&!@'\n",
        "dummy = [ord(x) for x in x]\n",
        "\n",
        "print(x)\n",
        "print(dummy)"
      ],
      "metadata": {
        "colab": {
          "base_uri": "https://localhost:8080/"
        },
        "id": "9ta4bj1rI6Th",
        "outputId": "999cf5d9-4527-4cde-c289-6b9d9da23c56"
      },
      "execution_count": 28,
      "outputs": [
        {
          "output_type": "stream",
          "name": "stdout",
          "text": [
            "\"!~$$*&!@\n",
            "[34, 33, 126, 36, 36, 42, 38, 33, 64]\n"
          ]
        }
      ]
    },
    {
      "cell_type": "code",
      "source": [
        "symbols = '\"!~$$*&!@'\n",
        "beyond_ascii = [ord(s) for s in symbols if ord(s) > 32]\n",
        "\n",
        "print(beyond_ascii)\n"
      ],
      "metadata": {
        "colab": {
          "base_uri": "https://localhost:8080/"
        },
        "id": "eqN8kXGLJD0W",
        "outputId": "86830710-b7bf-4aea-8a9d-41c00b792479"
      },
      "execution_count": 29,
      "outputs": [
        {
          "output_type": "stream",
          "name": "stdout",
          "text": [
            "[34, 33, 126, 36, 36, 42, 38, 33, 64]\n"
          ]
        }
      ]
    },
    {
      "cell_type": "code",
      "source": [
        "symbols = '\"!~$$*&!@'\n",
        "beyond_ascii = list(filter(lambda c: c>64, map(ord, symbols)))\n",
        "\n",
        "print(beyond_ascii, '\\n')\n",
        "print(f\"Map function:\\n>>> {map(ord,symbols)}\")\n",
        "print(f\"List after map:\\n>>> {list(map(ord,symbols))}\")"
      ],
      "metadata": {
        "colab": {
          "base_uri": "https://localhost:8080/"
        },
        "id": "Twu-zRnWJQnH",
        "outputId": "62d52f62-d7ad-4181-a7b8-471708f5dcdc"
      },
      "execution_count": 30,
      "outputs": [
        {
          "output_type": "stream",
          "name": "stdout",
          "text": [
            "[126] \n",
            "\n",
            "Map function:\n",
            ">>> <map object at 0x78df25a779d0>\n",
            "List after map:\n",
            ">>> [34, 33, 126, 36, 36, 42, 38, 33, 64]\n"
          ]
        }
      ]
    },
    {
      "cell_type": "code",
      "source": [
        "colors = ['black', 'white']\n",
        "sizes = ['S', 'M', 'L']\n",
        "tshirts = [(color,size) for color in colors for size in sizes]\n",
        "\n",
        "print(tshirts)\n",
        "\n",
        "for color in colors:\n",
        "  for size in sizes:\n",
        "    print((color,size))"
      ],
      "metadata": {
        "colab": {
          "base_uri": "https://localhost:8080/"
        },
        "id": "QKO83lm7J7wF",
        "outputId": "77e35c5d-e29d-47e5-8c4d-a8f1d4840db6"
      },
      "execution_count": 31,
      "outputs": [
        {
          "output_type": "stream",
          "name": "stdout",
          "text": [
            "[('black', 'S'), ('black', 'M'), ('black', 'L'), ('white', 'S'), ('white', 'M'), ('white', 'L')]\n",
            "('black', 'S')\n",
            "('black', 'M')\n",
            "('black', 'L')\n",
            "('white', 'S')\n",
            "('white', 'M')\n",
            "('white', 'L')\n"
          ]
        }
      ]
    },
    {
      "cell_type": "code",
      "source": [
        "symbols = '\"!~$$*&!@'\n",
        "ord_s = tuple(ord(s) for s in symbols if ord(s))\n",
        "\n",
        "print(ord_s)"
      ],
      "metadata": {
        "colab": {
          "base_uri": "https://localhost:8080/"
        },
        "id": "77hn0HcoKNuS",
        "outputId": "abcab193-9062-465e-8e46-dc0b68b6c360"
      },
      "execution_count": 32,
      "outputs": [
        {
          "output_type": "stream",
          "name": "stdout",
          "text": [
            "(34, 33, 126, 36, 36, 42, 38, 33, 64)\n"
          ]
        }
      ]
    },
    {
      "cell_type": "code",
      "source": [
        "colors = ['black', 'white']\n",
        "sizes = ['S','M','L']\n",
        "\n",
        "for tshirt in ('{} {}'.format(c,s) for s in sizes for c in colors):\n",
        "  print(tshirt)"
      ],
      "metadata": {
        "colab": {
          "base_uri": "https://localhost:8080/"
        },
        "id": "Ox2lTT41KXQv",
        "outputId": "31693138-ee7e-4606-e4e4-d803668f443d"
      },
      "execution_count": 33,
      "outputs": [
        {
          "output_type": "stream",
          "name": "stdout",
          "text": [
            "black S\n",
            "white S\n",
            "black M\n",
            "white M\n",
            "black L\n",
            "white L\n"
          ]
        }
      ]
    },
    {
      "cell_type": "code",
      "source": [
        "lax_coordinates = (33.9425, -118.408056)\n",
        "city, year, pop, chg, area = ('Tokyo', 2003, 32450, 0.66, 8014)\n",
        "traveler_ids = [('USA', '31195855'),\n",
        "                ('BRA', 'CE342567'),\n",
        "                ('ESP', 'XDA205856')]\n",
        "\n",
        "for passport in sorted(traveler_ids):\n",
        "    print('%s/%s' % passport)\n",
        "    print('{}/{}'.format(passport[0], passport[1]))\n",
        "    print(f'{passport[0]}/{passport[1]}')\n"
      ],
      "metadata": {
        "colab": {
          "base_uri": "https://localhost:8080/"
        },
        "id": "V0G_aFV4KmMO",
        "outputId": "66719bdf-4d75-44b0-cb56-94d0471197b0"
      },
      "execution_count": 34,
      "outputs": [
        {
          "output_type": "stream",
          "name": "stdout",
          "text": [
            "BRA/CE342567\n",
            "BRA/CE342567\n",
            "BRA/CE342567\n",
            "ESP/XDA205856\n",
            "ESP/XDA205856\n",
            "ESP/XDA205856\n",
            "USA/31195855\n",
            "USA/31195855\n",
            "USA/31195855\n"
          ]
        }
      ]
    },
    {
      "cell_type": "code",
      "source": [
        "for country, _ in traveler_ids:\n",
        "  print(country)"
      ],
      "metadata": {
        "colab": {
          "base_uri": "https://localhost:8080/"
        },
        "id": "nqH0MuTIKwC5",
        "outputId": "a77c9a04-ff6a-4c00-fa41-3e5d1e62b22b"
      },
      "execution_count": 35,
      "outputs": [
        {
          "output_type": "stream",
          "name": "stdout",
          "text": [
            "USA\n",
            "BRA\n",
            "ESP\n"
          ]
        }
      ]
    },
    {
      "cell_type": "code",
      "source": [
        "lax_coordinates = (33.9425, -118.408056)\n",
        "latitude, longtitude = lax_coordinates\n",
        "print(latitude)\n",
        "print(longtitude)"
      ],
      "metadata": {
        "colab": {
          "base_uri": "https://localhost:8080/"
        },
        "id": "a8psf1NSK08s",
        "outputId": "abde332d-6a2b-4922-cdf0-45dd540c049d"
      },
      "execution_count": 36,
      "outputs": [
        {
          "output_type": "stream",
          "name": "stdout",
          "text": [
            "33.9425\n",
            "-118.408056\n"
          ]
        }
      ]
    },
    {
      "cell_type": "code",
      "source": [
        "divmod(20,8)"
      ],
      "metadata": {
        "colab": {
          "base_uri": "https://localhost:8080/"
        },
        "id": "cl-Mcj9gLA2k",
        "outputId": "87241a46-ebb9-4bbf-9cbd-018344b7eb17"
      },
      "execution_count": 37,
      "outputs": [
        {
          "output_type": "execute_result",
          "data": {
            "text/plain": [
              "(2, 4)"
            ]
          },
          "metadata": {},
          "execution_count": 37
        }
      ]
    },
    {
      "cell_type": "code",
      "source": [
        "t = (20, 8)\n",
        "divmod(*t)"
      ],
      "metadata": {
        "colab": {
          "base_uri": "https://localhost:8080/"
        },
        "id": "w5RcCrE_Le6B",
        "outputId": "e7b8299f-e2d0-41d3-dc2e-00d7882d88d4"
      },
      "execution_count": 38,
      "outputs": [
        {
          "output_type": "execute_result",
          "data": {
            "text/plain": [
              "(2, 4)"
            ]
          },
          "metadata": {},
          "execution_count": 38
        }
      ]
    },
    {
      "cell_type": "code",
      "source": [
        "quotient, remainder = divmod(*t)\n",
        "quotient, remainder"
      ],
      "metadata": {
        "colab": {
          "base_uri": "https://localhost:8080/"
        },
        "id": "njMgVSZrLgpr",
        "outputId": "14ffb78a-0d35-40c6-cdf3-5ffa5cb2bc4f"
      },
      "execution_count": 39,
      "outputs": [
        {
          "output_type": "execute_result",
          "data": {
            "text/plain": [
              "(2, 4)"
            ]
          },
          "metadata": {},
          "execution_count": 39
        }
      ]
    },
    {
      "cell_type": "code",
      "source": [
        "import os\n",
        "_, filename = os.path.split('/home/luciano/.ssh/idrsa.pub')\n",
        "filename"
      ],
      "metadata": {
        "colab": {
          "base_uri": "https://localhost:8080/",
          "height": 35
        },
        "id": "-J9yaiyMLjI5",
        "outputId": "d6bcab53-3f67-468e-a63f-ff6815c56c1d"
      },
      "execution_count": 40,
      "outputs": [
        {
          "output_type": "execute_result",
          "data": {
            "text/plain": [
              "'idrsa.pub'"
            ],
            "application/vnd.google.colaboratory.intrinsic+json": {
              "type": "string"
            }
          },
          "metadata": {},
          "execution_count": 40
        }
      ]
    },
    {
      "cell_type": "code",
      "source": [
        "a, b, * rest = range(5)\n",
        "a, b, rest"
      ],
      "metadata": {
        "colab": {
          "base_uri": "https://localhost:8080/"
        },
        "id": "4UDRG7l7LvP3",
        "outputId": "7ec8f086-e5ac-4f8b-f1e3-6dd31b48c639"
      },
      "execution_count": 41,
      "outputs": [
        {
          "output_type": "execute_result",
          "data": {
            "text/plain": [
              "(0, 1, [2, 3, 4])"
            ]
          },
          "metadata": {},
          "execution_count": 41
        }
      ]
    },
    {
      "cell_type": "code",
      "source": [
        "a, b, *rest = range(3)\n",
        "a, b, rest"
      ],
      "metadata": {
        "colab": {
          "base_uri": "https://localhost:8080/"
        },
        "id": "9SMonx7fL0T1",
        "outputId": "dfb4b646-f9c0-402f-adf0-355c1c15fdd2"
      },
      "execution_count": 42,
      "outputs": [
        {
          "output_type": "execute_result",
          "data": {
            "text/plain": [
              "(0, 1, [2])"
            ]
          },
          "metadata": {},
          "execution_count": 42
        }
      ]
    },
    {
      "cell_type": "code",
      "source": [
        "a, b, *rest = range(2)\n",
        "a, b, rest"
      ],
      "metadata": {
        "colab": {
          "base_uri": "https://localhost:8080/"
        },
        "id": "yiBIG0ggL31C",
        "outputId": "1a8de61a-0ed5-4a27-f797-6ba481cc3a62"
      },
      "execution_count": 43,
      "outputs": [
        {
          "output_type": "execute_result",
          "data": {
            "text/plain": [
              "(0, 1, [])"
            ]
          },
          "metadata": {},
          "execution_count": 43
        }
      ]
    },
    {
      "cell_type": "code",
      "source": [
        "a, *body, c, d = range(5)\n",
        "a, body, c, d"
      ],
      "metadata": {
        "colab": {
          "base_uri": "https://localhost:8080/"
        },
        "id": "wpm1R0xEL65P",
        "outputId": "6029b98e-977f-46e5-bcb5-764c7317f86c"
      },
      "execution_count": 44,
      "outputs": [
        {
          "output_type": "execute_result",
          "data": {
            "text/plain": [
              "(0, [1, 2], 3, 4)"
            ]
          },
          "metadata": {},
          "execution_count": 44
        }
      ]
    },
    {
      "cell_type": "code",
      "source": [
        "*head, b, c, d = range(5)\n",
        "head, b, c, d"
      ],
      "metadata": {
        "colab": {
          "base_uri": "https://localhost:8080/"
        },
        "id": "s9qaMILhMASy",
        "outputId": "f8438a3b-ab93-45de-e563-5e5288f80522"
      },
      "execution_count": 24,
      "outputs": [
        {
          "output_type": "execute_result",
          "data": {
            "text/plain": [
              "([0, 1], 2, 3, 4)"
            ]
          },
          "metadata": {},
          "execution_count": 23
        },
        {
          "output_type": "execute_result",
          "data": {
            "text/plain": [
              "([0, 1], 2, 3, 4)"
            ]
          },
          "metadata": {},
          "execution_count": 24
        }
      ]
    },
    {
      "cell_type": "code",
      "source": [
        "metro_areas = [\n",
        "    (\"Tokyo\", \"JP\", 36.933, (35, 139)),\n",
        "    (\"Delhi NCR\", \"IN\", 21, (28, 77)),\n",
        "    (\"Mexico City\", \"MX\", 20, (19, -99)),\n",
        "    (\"New York–Newark\", \"US\", 20, (40, -74)),\n",
        "    (\"Sao Paulo\", \"BR\", 19, (-23, -46))\n",
        "]\n",
        "\n",
        "print(\"{:15} | {:^9} | {:^9}\".format('', 'lat.', 'long.'))\n",
        "fmt = '{:15} | {:9.4f} | {:9.4f}'\n",
        "\n",
        "for name, cc, pop, (lat, longi) in metro_areas:\n",
        "    if longi <= 0:\n",
        "        print(fmt.format(name, lat, longi))\n"
      ],
      "metadata": {
        "colab": {
          "base_uri": "https://localhost:8080/"
        },
        "id": "Eff37XWhMFSR",
        "outputId": "848f24a6-ae44-4dc4-e391-b889a1622f34"
      },
      "execution_count": 45,
      "outputs": [
        {
          "output_type": "stream",
          "name": "stdout",
          "text": [
            "                |   lat.    |   long.  \n",
            "Mexico City     |   19.0000 |  -99.0000\n",
            "New York–Newark |   40.0000 |  -74.0000\n",
            "Sao Paulo       |  -23.0000 |  -46.0000\n"
          ]
        }
      ]
    },
    {
      "cell_type": "code",
      "source": [
        "from collections import namedtuple\n",
        "\n",
        "City = namedtuple('City', 'name country population coordinates')\n",
        "tokyo = City('Tokyo', 'JP', 36.933, (35.689, 139.691))\n",
        "tokyo\n"
      ],
      "metadata": {
        "colab": {
          "base_uri": "https://localhost:8080/"
        },
        "id": "zKC8-1ywMUZU",
        "outputId": "ea8e6509-0c06-431d-a9fd-3ce9f2ea9f2d"
      },
      "execution_count": 46,
      "outputs": [
        {
          "output_type": "execute_result",
          "data": {
            "text/plain": [
              "City(name='Tokyo', country='JP', population=36.933, coordinates=(35.689, 139.691))"
            ]
          },
          "metadata": {},
          "execution_count": 46
        }
      ]
    },
    {
      "cell_type": "code",
      "source": [
        "tokyo.population"
      ],
      "metadata": {
        "colab": {
          "base_uri": "https://localhost:8080/"
        },
        "id": "Vz0blKwNMZ4V",
        "outputId": "f6a42a09-d80c-43c8-9318-4464d8079c8b"
      },
      "execution_count": 47,
      "outputs": [
        {
          "output_type": "execute_result",
          "data": {
            "text/plain": [
              "36.933"
            ]
          },
          "metadata": {},
          "execution_count": 47
        }
      ]
    },
    {
      "cell_type": "code",
      "source": [
        "tokyo.coordinates"
      ],
      "metadata": {
        "colab": {
          "base_uri": "https://localhost:8080/"
        },
        "id": "3q4B01oeMcQ6",
        "outputId": "cd48fcf7-c3a3-4ca1-8763-1295dee027bd"
      },
      "execution_count": 48,
      "outputs": [
        {
          "output_type": "execute_result",
          "data": {
            "text/plain": [
              "(35.689, 139.691)"
            ]
          },
          "metadata": {},
          "execution_count": 48
        }
      ]
    },
    {
      "cell_type": "code",
      "source": [
        "tokyo[1]"
      ],
      "metadata": {
        "colab": {
          "base_uri": "https://localhost:8080/",
          "height": 35
        },
        "id": "aGl5YguCMdmM",
        "outputId": "7593e5f0-b9b6-45fa-f071-6b5bfea5cadb"
      },
      "execution_count": 49,
      "outputs": [
        {
          "output_type": "execute_result",
          "data": {
            "text/plain": [
              "'JP'"
            ],
            "application/vnd.google.colaboratory.intrinsic+json": {
              "type": "string"
            }
          },
          "metadata": {},
          "execution_count": 49
        }
      ]
    },
    {
      "cell_type": "code",
      "source": [
        "City._fields"
      ],
      "metadata": {
        "colab": {
          "base_uri": "https://localhost:8080/"
        },
        "id": "hBa7aSciMe_E",
        "outputId": "6a856ba5-58ee-4608-e684-914047b6b145"
      },
      "execution_count": 50,
      "outputs": [
        {
          "output_type": "execute_result",
          "data": {
            "text/plain": [
              "('name', 'country', 'population', 'coordinates')"
            ]
          },
          "metadata": {},
          "execution_count": 50
        }
      ]
    },
    {
      "cell_type": "code",
      "source": [
        "LatLong = namedtuple('LatLong', 'lat long')\n",
        "delhi_data = ('Delhi NCR', 'IN', 21.935, LatLong(28.613, 77.208))"
      ],
      "metadata": {
        "id": "sq5LVBWqMhP2"
      },
      "execution_count": 52,
      "outputs": []
    },
    {
      "cell_type": "code",
      "source": [
        "delhi = City._make(delhi_data)\n",
        "delhi._asdict()"
      ],
      "metadata": {
        "colab": {
          "base_uri": "https://localhost:8080/"
        },
        "id": "XhwZFt2mMoW1",
        "outputId": "cc497c5e-c0ff-43a9-b306-9e0327085be4"
      },
      "execution_count": 53,
      "outputs": [
        {
          "output_type": "execute_result",
          "data": {
            "text/plain": [
              "{'name': 'Delhi NCR',\n",
              " 'country': 'IN',\n",
              " 'population': 21.935,\n",
              " 'coordinates': LatLong(lat=28.613, long=77.208)}"
            ]
          },
          "metadata": {},
          "execution_count": 53
        }
      ]
    },
    {
      "cell_type": "code",
      "source": [
        "for key, value in delhi._asdict().items():\n",
        "  print(key + ':', value)"
      ],
      "metadata": {
        "colab": {
          "base_uri": "https://localhost:8080/"
        },
        "id": "X2emkzrKMq3H",
        "outputId": "da518fdc-9835-4785-c337-ef4d2cad2968"
      },
      "execution_count": 54,
      "outputs": [
        {
          "output_type": "stream",
          "name": "stdout",
          "text": [
            "name: Delhi NCR\n",
            "country: IN\n",
            "population: 21.935\n",
            "coordinates: LatLong(lat=28.613, long=77.208)\n"
          ]
        }
      ]
    },
    {
      "cell_type": "code",
      "source": [
        "l = [10,20,30,40,50,60]\n",
        "l[:2]"
      ],
      "metadata": {
        "colab": {
          "base_uri": "https://localhost:8080/"
        },
        "id": "mDQSBbv6MzcN",
        "outputId": "b086d97b-3c2f-421b-f5ce-acd1d46e6df8"
      },
      "execution_count": 55,
      "outputs": [
        {
          "output_type": "execute_result",
          "data": {
            "text/plain": [
              "[10, 20]"
            ]
          },
          "metadata": {},
          "execution_count": 55
        }
      ]
    },
    {
      "cell_type": "code",
      "source": [
        "l[2:]"
      ],
      "metadata": {
        "colab": {
          "base_uri": "https://localhost:8080/"
        },
        "id": "9ideiHWqM1Vk",
        "outputId": "3aa4dbeb-1efe-417c-92cc-2868c330b962"
      },
      "execution_count": 56,
      "outputs": [
        {
          "output_type": "execute_result",
          "data": {
            "text/plain": [
              "[30, 40, 50, 60]"
            ]
          },
          "metadata": {},
          "execution_count": 56
        }
      ]
    },
    {
      "cell_type": "code",
      "source": [
        "l[:3]"
      ],
      "metadata": {
        "colab": {
          "base_uri": "https://localhost:8080/"
        },
        "id": "eM9YW4MrM2PF",
        "outputId": "0c5cd6aa-1679-4ad3-e8a5-b2b179fb3391"
      },
      "execution_count": 57,
      "outputs": [
        {
          "output_type": "execute_result",
          "data": {
            "text/plain": [
              "[10, 20, 30]"
            ]
          },
          "metadata": {},
          "execution_count": 57
        }
      ]
    },
    {
      "cell_type": "code",
      "source": [
        "l[3:]"
      ],
      "metadata": {
        "colab": {
          "base_uri": "https://localhost:8080/"
        },
        "id": "FhS8PmkTM3ri",
        "outputId": "d85c60af-2e95-4356-e468-9c878d0cb38b"
      },
      "execution_count": 58,
      "outputs": [
        {
          "output_type": "execute_result",
          "data": {
            "text/plain": [
              "[40, 50, 60]"
            ]
          },
          "metadata": {},
          "execution_count": 58
        }
      ]
    },
    {
      "cell_type": "code",
      "source": [
        "invoice = \"\"\"\n",
        "0.....6..................25........33......40.......\n",
        "1909  Pimoroni        $17.50    3    $52.50\n",
        "1489  6mm Tactile     $4.95     2    $9.90\n",
        "\"\"\"\n",
        "\n",
        "SKU = slice(0, 6)\n",
        "DESCRIPTION = slice(6, 25)\n",
        "UNIT_PRICE = slice(25, 33)\n",
        "QUANTITY = slice(33, 40)\n",
        "ITEM_TOTAL = slice(40, None)\n",
        "\n",
        "line_items = invoice.split('\\n')[2:]\n",
        "\n",
        "for item in line_items:\n",
        "    print(item[UNIT_PRICE], item[DESCRIPTION])\n"
      ],
      "metadata": {
        "colab": {
          "base_uri": "https://localhost:8080/"
        },
        "id": "7c9yVMUpM4bA",
        "outputId": "34d320e2-9308-4187-f424-5e44dfa24051"
      },
      "execution_count": 61,
      "outputs": [
        {
          "output_type": "stream",
          "name": "stdout",
          "text": [
            ".50    3 Pimoroni        $17\n",
            "95     2 6mm Tactile     $4.\n",
            " \n"
          ]
        }
      ]
    },
    {
      "cell_type": "code",
      "source": [
        "l = list (range(10))\n",
        "l"
      ],
      "metadata": {
        "colab": {
          "base_uri": "https://localhost:8080/"
        },
        "id": "mfOo66k2NAfY",
        "outputId": "cec6ffd0-baf5-401c-d3fd-5c561024371f"
      },
      "execution_count": 66,
      "outputs": [
        {
          "output_type": "execute_result",
          "data": {
            "text/plain": [
              "[0, 1, 2, 3, 4, 5, 6, 7, 8, 9]"
            ]
          },
          "metadata": {},
          "execution_count": 66
        }
      ]
    },
    {
      "cell_type": "code",
      "source": [
        "l[2:5] = [20,30]\n",
        "l"
      ],
      "metadata": {
        "colab": {
          "base_uri": "https://localhost:8080/"
        },
        "id": "qFsA-k7lNelI",
        "outputId": "7a841e76-9664-4f2f-8538-55908e10f3b0"
      },
      "execution_count": 67,
      "outputs": [
        {
          "output_type": "execute_result",
          "data": {
            "text/plain": [
              "[0, 1, 20, 30, 5, 6, 7, 8, 9]"
            ]
          },
          "metadata": {},
          "execution_count": 67
        }
      ]
    },
    {
      "cell_type": "code",
      "source": [
        "del l[5:7]\n",
        "l"
      ],
      "metadata": {
        "colab": {
          "base_uri": "https://localhost:8080/"
        },
        "id": "dGEosa6xNiXm",
        "outputId": "7ff32d6a-19d8-44e2-9048-21838d36710e"
      },
      "execution_count": 68,
      "outputs": [
        {
          "output_type": "execute_result",
          "data": {
            "text/plain": [
              "[0, 1, 20, 30, 5, 8, 9]"
            ]
          },
          "metadata": {},
          "execution_count": 68
        }
      ]
    },
    {
      "cell_type": "code",
      "source": [
        "l[3::2] = [11,22]\n",
        "l"
      ],
      "metadata": {
        "colab": {
          "base_uri": "https://localhost:8080/"
        },
        "id": "xoEiDRx8NjgB",
        "outputId": "4be70d58-9e32-4889-a643-9fcffc5cc17f"
      },
      "execution_count": 69,
      "outputs": [
        {
          "output_type": "execute_result",
          "data": {
            "text/plain": [
              "[0, 1, 20, 11, 5, 22, 9]"
            ]
          },
          "metadata": {},
          "execution_count": 69
        }
      ]
    },
    {
      "cell_type": "code",
      "source": [
        "l[2:5] = [100]\n",
        "l"
      ],
      "metadata": {
        "colab": {
          "base_uri": "https://localhost:8080/"
        },
        "id": "NYMFG-sINnmM",
        "outputId": "ae9b99dd-2317-4da4-ac03-60c1fee90bc2"
      },
      "execution_count": 70,
      "outputs": [
        {
          "output_type": "execute_result",
          "data": {
            "text/plain": [
              "[0, 1, 100, 22, 9]"
            ]
          },
          "metadata": {},
          "execution_count": 70
        }
      ]
    },
    {
      "cell_type": "code",
      "source": [
        "l = [1,2,3]\n",
        "l * 5"
      ],
      "metadata": {
        "colab": {
          "base_uri": "https://localhost:8080/"
        },
        "id": "n11vT4oxNpmT",
        "outputId": "6c76ff73-c657-4c4a-9a7e-054c1149aeaa"
      },
      "execution_count": 71,
      "outputs": [
        {
          "output_type": "execute_result",
          "data": {
            "text/plain": [
              "[1, 2, 3, 1, 2, 3, 1, 2, 3, 1, 2, 3, 1, 2, 3]"
            ]
          },
          "metadata": {},
          "execution_count": 71
        }
      ]
    },
    {
      "cell_type": "code",
      "source": [
        "5 * 'abcd'"
      ],
      "metadata": {
        "colab": {
          "base_uri": "https://localhost:8080/",
          "height": 35
        },
        "id": "WMupr8a_NwmG",
        "outputId": "1d02967d-64ef-4da9-9f66-ea5aeaf3238f"
      },
      "execution_count": 72,
      "outputs": [
        {
          "output_type": "execute_result",
          "data": {
            "text/plain": [
              "'abcdabcdabcdabcdabcd'"
            ],
            "application/vnd.google.colaboratory.intrinsic+json": {
              "type": "string"
            }
          },
          "metadata": {},
          "execution_count": 72
        }
      ]
    },
    {
      "cell_type": "code",
      "source": [
        "board = [['_'] * 3 for i in range(3)]\n",
        "board"
      ],
      "metadata": {
        "colab": {
          "base_uri": "https://localhost:8080/"
        },
        "id": "ny-JsZUgNyIG",
        "outputId": "bfb542c5-59e3-4b94-ad90-ec054ed00b75"
      },
      "execution_count": 74,
      "outputs": [
        {
          "output_type": "execute_result",
          "data": {
            "text/plain": [
              "[['_', '_', '_'], ['_', '_', '_'], ['_', '_', '_']]"
            ]
          },
          "metadata": {},
          "execution_count": 74
        }
      ]
    },
    {
      "cell_type": "code",
      "source": [
        "board[1][2] = 'X'\n",
        "board"
      ],
      "metadata": {
        "colab": {
          "base_uri": "https://localhost:8080/"
        },
        "id": "No2q4hhEN8nD",
        "outputId": "8cdd052b-ff4b-4170-bf6e-b9403e48f1e1"
      },
      "execution_count": 76,
      "outputs": [
        {
          "output_type": "execute_result",
          "data": {
            "text/plain": [
              "[['_', '_', '_'], ['_', '_', 'X'], ['_', '_', '_']]"
            ]
          },
          "metadata": {},
          "execution_count": 76
        }
      ]
    },
    {
      "cell_type": "code",
      "source": [
        "weird_board = [['_'] * 3] * 3\n",
        "weird_board"
      ],
      "metadata": {
        "colab": {
          "base_uri": "https://localhost:8080/"
        },
        "id": "NFSidDH5OBhC",
        "outputId": "601d38fb-c559-4198-94f2-2090f1b2c9a1"
      },
      "execution_count": 77,
      "outputs": [
        {
          "output_type": "execute_result",
          "data": {
            "text/plain": [
              "[['_', '_', '_'], ['_', '_', '_'], ['_', '_', '_']]"
            ]
          },
          "metadata": {},
          "execution_count": 77
        }
      ]
    },
    {
      "cell_type": "code",
      "source": [
        "weird_board[1][2] = '0'\n",
        "weird_board"
      ],
      "metadata": {
        "colab": {
          "base_uri": "https://localhost:8080/"
        },
        "id": "u_wNX7YHOLgX",
        "outputId": "44d69d7a-e302-4957-82df-dc2d1659eb57"
      },
      "execution_count": 78,
      "outputs": [
        {
          "output_type": "execute_result",
          "data": {
            "text/plain": [
              "[['_', '_', '0'], ['_', '_', '0'], ['_', '_', '0']]"
            ]
          },
          "metadata": {},
          "execution_count": 78
        }
      ]
    },
    {
      "cell_type": "code",
      "source": [
        "row = ['_'] * 3\n",
        "board = []\n",
        "for i in range(3):\n",
        "  board.append(row)\n",
        "\n",
        "board[1][2] = 'X'\n",
        "\n",
        "board"
      ],
      "metadata": {
        "colab": {
          "base_uri": "https://localhost:8080/"
        },
        "id": "meQPlT0fOP6m",
        "outputId": "2bf32c57-ab3c-4529-89ac-53d1fd673026"
      },
      "execution_count": 79,
      "outputs": [
        {
          "output_type": "execute_result",
          "data": {
            "text/plain": [
              "[['_', '_', 'X'], ['_', '_', 'X'], ['_', '_', 'X']]"
            ]
          },
          "metadata": {},
          "execution_count": 79
        }
      ]
    },
    {
      "cell_type": "code",
      "source": [
        "board = []\n",
        "for i in range(3):\n",
        "  row = ['_'] * 3\n",
        "  board.append(row)\n",
        "\n",
        "print(board)\n",
        "\n",
        "board[2][0] = 'X'\n",
        "\n",
        "board"
      ],
      "metadata": {
        "colab": {
          "base_uri": "https://localhost:8080/"
        },
        "id": "W2oxZs32OcPz",
        "outputId": "edff4f96-ff23-40b2-f620-4032376251a9"
      },
      "execution_count": 80,
      "outputs": [
        {
          "output_type": "stream",
          "name": "stdout",
          "text": [
            "[['_', '_', '_'], ['_', '_', '_'], ['_', '_', '_']]\n"
          ]
        },
        {
          "output_type": "execute_result",
          "data": {
            "text/plain": [
              "[['_', '_', '_'], ['_', '_', '_'], ['X', '_', '_']]"
            ]
          },
          "metadata": {},
          "execution_count": 80
        }
      ]
    },
    {
      "cell_type": "code",
      "source": [
        "l = [1,2,3]\n",
        "id(l)"
      ],
      "metadata": {
        "colab": {
          "base_uri": "https://localhost:8080/"
        },
        "id": "pDs7y-yLOmnC",
        "outputId": "1a6c0ee0-dbb3-4d1e-bca3-2f86e42dc259"
      },
      "execution_count": 87,
      "outputs": [
        {
          "output_type": "execute_result",
          "data": {
            "text/plain": [
              "132899796059328"
            ]
          },
          "metadata": {},
          "execution_count": 87
        }
      ]
    },
    {
      "cell_type": "code",
      "source": [
        "l *= 2\n",
        "l"
      ],
      "metadata": {
        "colab": {
          "base_uri": "https://localhost:8080/"
        },
        "id": "QQErLitKOpvI",
        "outputId": "164e2832-603a-4f1d-8054-9e713af5d216"
      },
      "execution_count": 88,
      "outputs": [
        {
          "output_type": "execute_result",
          "data": {
            "text/plain": [
              "[1, 2, 3, 1, 2, 3]"
            ]
          },
          "metadata": {},
          "execution_count": 88
        }
      ]
    },
    {
      "cell_type": "code",
      "source": [
        "id(l)"
      ],
      "metadata": {
        "colab": {
          "base_uri": "https://localhost:8080/"
        },
        "id": "S6QVcoR6Ow_-",
        "outputId": "955db809-10d7-4829-f968-1dd17af65340"
      },
      "execution_count": 89,
      "outputs": [
        {
          "output_type": "execute_result",
          "data": {
            "text/plain": [
              "132899796059328"
            ]
          },
          "metadata": {},
          "execution_count": 89
        }
      ]
    },
    {
      "cell_type": "code",
      "source": [
        "t = (1,2,3)\n",
        "id(t)"
      ],
      "metadata": {
        "colab": {
          "base_uri": "https://localhost:8080/"
        },
        "id": "8rh3SNKLOslA",
        "outputId": "557b4783-bd2e-4e7c-a08e-0017b693814f"
      },
      "execution_count": 90,
      "outputs": [
        {
          "output_type": "execute_result",
          "data": {
            "text/plain": [
              "132899795924736"
            ]
          },
          "metadata": {},
          "execution_count": 90
        }
      ]
    },
    {
      "cell_type": "code",
      "source": [
        "t *= 2\n",
        "id(t)"
      ],
      "metadata": {
        "colab": {
          "base_uri": "https://localhost:8080/"
        },
        "id": "_qe2nTcqOueZ",
        "outputId": "8accb841-4a86-4e28-bb54-32e2b65b367a"
      },
      "execution_count": 91,
      "outputs": [
        {
          "output_type": "execute_result",
          "data": {
            "text/plain": [
              "132899796812320"
            ]
          },
          "metadata": {},
          "execution_count": 91
        }
      ]
    },
    {
      "cell_type": "code",
      "source": [
        "t = (1,2, [30,40])\n",
        "print(t)\n",
        "\n",
        "t[2] += [50,60]\n",
        "\n",
        "\"\"\"\n",
        "a. t는 (1, 2, [30, 40, 50, 60])이 된다.\n",
        "b. '튜플 객체는 항목 할당을 지원하지 않는다'는 메시지와 함께 TypeError가 발생한다.\n",
        "c. a와 b 둘 다 틀리다.\n",
        "d. a와 b 둘 다 맞다.\n",
        "\"\"\""
      ],
      "metadata": {
        "colab": {
          "base_uri": "https://localhost:8080/",
          "height": 224
        },
        "id": "mN09FZVyO6kF",
        "outputId": "6d86032b-344c-4c09-8b2a-684146a2b388"
      },
      "execution_count": 92,
      "outputs": [
        {
          "output_type": "stream",
          "name": "stdout",
          "text": [
            "(1, 2, [30, 40])\n"
          ]
        },
        {
          "output_type": "error",
          "ename": "TypeError",
          "evalue": "'tuple' object does not support item assignment",
          "traceback": [
            "\u001b[0;31m---------------------------------------------------------------------------\u001b[0m",
            "\u001b[0;31mTypeError\u001b[0m                                 Traceback (most recent call last)",
            "\u001b[0;32m/tmp/ipython-input-3258071394.py\u001b[0m in \u001b[0;36m<cell line: 0>\u001b[0;34m()\u001b[0m\n\u001b[1;32m      2\u001b[0m \u001b[0mprint\u001b[0m\u001b[0;34m(\u001b[0m\u001b[0mt\u001b[0m\u001b[0;34m)\u001b[0m\u001b[0;34m\u001b[0m\u001b[0;34m\u001b[0m\u001b[0m\n\u001b[1;32m      3\u001b[0m \u001b[0;34m\u001b[0m\u001b[0m\n\u001b[0;32m----> 4\u001b[0;31m \u001b[0mt\u001b[0m\u001b[0;34m[\u001b[0m\u001b[0;36m2\u001b[0m\u001b[0;34m]\u001b[0m \u001b[0;34m+=\u001b[0m \u001b[0;34m[\u001b[0m\u001b[0;36m50\u001b[0m\u001b[0;34m,\u001b[0m\u001b[0;36m60\u001b[0m\u001b[0;34m]\u001b[0m\u001b[0;34m\u001b[0m\u001b[0;34m\u001b[0m\u001b[0m\n\u001b[0m\u001b[1;32m      5\u001b[0m \u001b[0;34m\u001b[0m\u001b[0m\n\u001b[1;32m      6\u001b[0m \"\"\"\n",
            "\u001b[0;31mTypeError\u001b[0m: 'tuple' object does not support item assignment"
          ]
        }
      ]
    },
    {
      "cell_type": "code",
      "source": [
        "print(t)"
      ],
      "metadata": {
        "colab": {
          "base_uri": "https://localhost:8080/"
        },
        "id": "xUiAZkpNPLJF",
        "outputId": "93cf7143-8cbc-48c0-cc8f-e6450ddcfb7c"
      },
      "execution_count": 93,
      "outputs": [
        {
          "output_type": "stream",
          "name": "stdout",
          "text": [
            "(1, 2, [30, 40, 50, 60])\n"
          ]
        }
      ]
    },
    {
      "cell_type": "code",
      "source": [
        "fruits = ['grape', 'raspberry', 'apple', 'banana']\n",
        "sorted(fruits)"
      ],
      "metadata": {
        "colab": {
          "base_uri": "https://localhost:8080/"
        },
        "id": "TY35oLkBPY0D",
        "outputId": "b30b59fc-239b-44d5-dab1-1de17ecb8d97"
      },
      "execution_count": 94,
      "outputs": [
        {
          "output_type": "execute_result",
          "data": {
            "text/plain": [
              "['apple', 'banana', 'grape', 'raspberry']"
            ]
          },
          "metadata": {},
          "execution_count": 94
        }
      ]
    },
    {
      "cell_type": "code",
      "source": [
        "fruits"
      ],
      "metadata": {
        "colab": {
          "base_uri": "https://localhost:8080/"
        },
        "id": "JTblRBQaPgeR",
        "outputId": "84156c92-135b-4ff4-dd1a-699dbf8108d3"
      },
      "execution_count": 95,
      "outputs": [
        {
          "output_type": "execute_result",
          "data": {
            "text/plain": [
              "['grape', 'raspberry', 'apple', 'banana']"
            ]
          },
          "metadata": {},
          "execution_count": 95
        }
      ]
    },
    {
      "cell_type": "code",
      "source": [
        "sorted(fruits, reverse=True)"
      ],
      "metadata": {
        "colab": {
          "base_uri": "https://localhost:8080/"
        },
        "id": "ydhEKwbNPhn4",
        "outputId": "edbe23f2-ace7-4efc-8916-8cb1ac5afff7"
      },
      "execution_count": 96,
      "outputs": [
        {
          "output_type": "execute_result",
          "data": {
            "text/plain": [
              "['raspberry', 'grape', 'banana', 'apple']"
            ]
          },
          "metadata": {},
          "execution_count": 96
        }
      ]
    },
    {
      "cell_type": "code",
      "source": [
        "sorted(fruits, key = len)"
      ],
      "metadata": {
        "colab": {
          "base_uri": "https://localhost:8080/"
        },
        "id": "WBvsKTf8Pkik",
        "outputId": "d23f1d47-51a5-467d-e13c-777b405f0658"
      },
      "execution_count": 97,
      "outputs": [
        {
          "output_type": "execute_result",
          "data": {
            "text/plain": [
              "['grape', 'apple', 'banana', 'raspberry']"
            ]
          },
          "metadata": {},
          "execution_count": 97
        }
      ]
    },
    {
      "cell_type": "code",
      "source": [
        "sorted(fruits, key = len, reverse=True)"
      ],
      "metadata": {
        "colab": {
          "base_uri": "https://localhost:8080/"
        },
        "id": "ksz_9uUMPoIQ",
        "outputId": "a64e80d3-260f-438d-91d5-9998859f3b5e"
      },
      "execution_count": 98,
      "outputs": [
        {
          "output_type": "execute_result",
          "data": {
            "text/plain": [
              "['raspberry', 'banana', 'grape', 'apple']"
            ]
          },
          "metadata": {},
          "execution_count": 98
        }
      ]
    },
    {
      "cell_type": "code",
      "source": [
        "fruits"
      ],
      "metadata": {
        "colab": {
          "base_uri": "https://localhost:8080/"
        },
        "id": "7MGJlR0IPsXX",
        "outputId": "fcebb88c-3a5d-4cc3-cc46-cb8b1bd091ab"
      },
      "execution_count": 99,
      "outputs": [
        {
          "output_type": "execute_result",
          "data": {
            "text/plain": [
              "['grape', 'raspberry', 'apple', 'banana']"
            ]
          },
          "metadata": {},
          "execution_count": 99
        }
      ]
    },
    {
      "cell_type": "code",
      "source": [
        "fruits.sort()\n",
        "fruits"
      ],
      "metadata": {
        "colab": {
          "base_uri": "https://localhost:8080/"
        },
        "id": "MHPEptZlPtkq",
        "outputId": "d69767a0-8b37-4fe2-9a40-43b835751a32"
      },
      "execution_count": 100,
      "outputs": [
        {
          "output_type": "execute_result",
          "data": {
            "text/plain": [
              "['apple', 'banana', 'grape', 'raspberry']"
            ]
          },
          "metadata": {},
          "execution_count": 100
        }
      ]
    },
    {
      "cell_type": "code",
      "source": [
        "from array import array\n",
        "from random import random\n",
        "\n",
        "floats = array('d', (random() for _ in range(10**7)))\n",
        "floats[-1]"
      ],
      "metadata": {
        "colab": {
          "base_uri": "https://localhost:8080/"
        },
        "id": "1JnyVw8SPwBb",
        "outputId": "f8e4b969-30b2-4d56-b888-f572ecd5c97b"
      },
      "execution_count": 101,
      "outputs": [
        {
          "output_type": "execute_result",
          "data": {
            "text/plain": [
              "0.464591408877123"
            ]
          },
          "metadata": {},
          "execution_count": 101
        }
      ]
    },
    {
      "cell_type": "code",
      "source": [
        "with open('floats.bin', 'wb') as f:\n",
        "    floats.tofile(f)"
      ],
      "metadata": {
        "id": "cjwoZ1xWP5Rp"
      },
      "execution_count": 102,
      "outputs": []
    },
    {
      "cell_type": "code",
      "source": [
        "floats2 = array('d')\n",
        "\n",
        "with open('floats.bin', 'rb') as f:\n",
        "    floats2.fromfile(f, 10**7)\n",
        "\n",
        "floats2[-1]"
      ],
      "metadata": {
        "colab": {
          "base_uri": "https://localhost:8080/"
        },
        "id": "6YVP92_wQAQh",
        "outputId": "5cca17cf-66d2-427a-cbc4-52d756c06d56"
      },
      "execution_count": 104,
      "outputs": [
        {
          "output_type": "execute_result",
          "data": {
            "text/plain": [
              "0.464591408877123"
            ]
          },
          "metadata": {},
          "execution_count": 104
        }
      ]
    },
    {
      "cell_type": "code",
      "source": [
        "floats == floats2"
      ],
      "metadata": {
        "colab": {
          "base_uri": "https://localhost:8080/"
        },
        "id": "JWwZyTqaQAdH",
        "outputId": "1ee65b5d-6f30-41cc-9949-0998f55aa0dc"
      },
      "execution_count": 105,
      "outputs": [
        {
          "output_type": "execute_result",
          "data": {
            "text/plain": [
              "True"
            ]
          },
          "metadata": {},
          "execution_count": 105
        }
      ]
    },
    {
      "cell_type": "code",
      "source": [
        "import numpy\n",
        "a = numpy.arange(12)\n",
        "a"
      ],
      "metadata": {
        "colab": {
          "base_uri": "https://localhost:8080/"
        },
        "id": "JQU5tPk5QCrz",
        "outputId": "babb1a9a-66e9-4040-ef21-ca14411cde68"
      },
      "execution_count": 106,
      "outputs": [
        {
          "output_type": "execute_result",
          "data": {
            "text/plain": [
              "array([ 0,  1,  2,  3,  4,  5,  6,  7,  8,  9, 10, 11])"
            ]
          },
          "metadata": {},
          "execution_count": 106
        }
      ]
    },
    {
      "cell_type": "code",
      "source": [
        "type(a)"
      ],
      "metadata": {
        "colab": {
          "base_uri": "https://localhost:8080/"
        },
        "id": "rqQ6A0UVQJJ_",
        "outputId": "88910717-d798-45d2-c3e7-aab504da7f73"
      },
      "execution_count": 107,
      "outputs": [
        {
          "output_type": "execute_result",
          "data": {
            "text/plain": [
              "numpy.ndarray"
            ]
          },
          "metadata": {},
          "execution_count": 107
        }
      ]
    },
    {
      "cell_type": "code",
      "source": [
        "a.shape"
      ],
      "metadata": {
        "colab": {
          "base_uri": "https://localhost:8080/"
        },
        "id": "u0VUgwFSQKoZ",
        "outputId": "abc6c5c5-914c-409e-82f0-03f4f984200a"
      },
      "execution_count": 115,
      "outputs": [
        {
          "output_type": "execute_result",
          "data": {
            "text/plain": [
              "(3, 4)"
            ]
          },
          "metadata": {},
          "execution_count": 115
        }
      ]
    },
    {
      "cell_type": "code",
      "source": [
        "a.shape = 3,4\n",
        "a"
      ],
      "metadata": {
        "colab": {
          "base_uri": "https://localhost:8080/"
        },
        "id": "cUB8H6ybQL1b",
        "outputId": "59131ef7-df5e-485d-8b5d-00ef6a68c1ae"
      },
      "execution_count": 116,
      "outputs": [
        {
          "output_type": "execute_result",
          "data": {
            "text/plain": [
              "array([[ 0,  1,  2,  3],\n",
              "       [ 4,  5,  6,  7],\n",
              "       [ 8,  9, 10, 11]])"
            ]
          },
          "metadata": {},
          "execution_count": 116
        }
      ]
    },
    {
      "cell_type": "code",
      "source": [
        "a[2]"
      ],
      "metadata": {
        "colab": {
          "base_uri": "https://localhost:8080/"
        },
        "id": "ZrpONJQFQNSp",
        "outputId": "0659d14a-46f7-462a-e014-bd83a54c62ab"
      },
      "execution_count": 117,
      "outputs": [
        {
          "output_type": "execute_result",
          "data": {
            "text/plain": [
              "array([ 8,  9, 10, 11])"
            ]
          },
          "metadata": {},
          "execution_count": 117
        }
      ]
    },
    {
      "cell_type": "code",
      "source": [
        "a[2,1]"
      ],
      "metadata": {
        "colab": {
          "base_uri": "https://localhost:8080/"
        },
        "id": "M8HCR7HPQYrD",
        "outputId": "41f04c78-cb0d-4c24-a6f3-5d77b1add0a6"
      },
      "execution_count": 118,
      "outputs": [
        {
          "output_type": "execute_result",
          "data": {
            "text/plain": [
              "np.int64(9)"
            ]
          },
          "metadata": {},
          "execution_count": 118
        }
      ]
    },
    {
      "cell_type": "code",
      "source": [
        "a[:, 1]"
      ],
      "metadata": {
        "colab": {
          "base_uri": "https://localhost:8080/"
        },
        "id": "Nk_qvPYDQZRy",
        "outputId": "316878ff-b2db-43d6-a596-17050cefe14e"
      },
      "execution_count": 119,
      "outputs": [
        {
          "output_type": "execute_result",
          "data": {
            "text/plain": [
              "array([1, 5, 9])"
            ]
          },
          "metadata": {},
          "execution_count": 119
        }
      ]
    },
    {
      "cell_type": "code",
      "source": [
        "a.transpose()"
      ],
      "metadata": {
        "colab": {
          "base_uri": "https://localhost:8080/"
        },
        "id": "q47z4wIcQcUs",
        "outputId": "eef7935c-8744-4548-86fe-df0da106df95"
      },
      "execution_count": 121,
      "outputs": [
        {
          "output_type": "execute_result",
          "data": {
            "text/plain": [
              "array([[ 0,  4,  8],\n",
              "       [ 1,  5,  9],\n",
              "       [ 2,  6, 10],\n",
              "       [ 3,  7, 11]])"
            ]
          },
          "metadata": {},
          "execution_count": 121
        }
      ]
    }
  ]
}